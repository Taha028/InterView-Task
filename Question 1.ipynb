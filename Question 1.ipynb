{
 "cells": [
  {
   "cell_type": "code",
   "execution_count": 8,
   "metadata": {},
   "outputs": [],
   "source": [
    "import pandas as pd\n",
    "import numpy as np"
   ]
  },
  {
   "cell_type": "code",
   "execution_count": 9,
   "metadata": {},
   "outputs": [
    {
     "data": {
      "text/html": [
       "<div>\n",
       "<style scoped>\n",
       "    .dataframe tbody tr th:only-of-type {\n",
       "        vertical-align: middle;\n",
       "    }\n",
       "\n",
       "    .dataframe tbody tr th {\n",
       "        vertical-align: top;\n",
       "    }\n",
       "\n",
       "    .dataframe thead th {\n",
       "        text-align: right;\n",
       "    }\n",
       "</style>\n",
       "<table border=\"1\" class=\"dataframe\">\n",
       "  <thead>\n",
       "    <tr style=\"text-align: right;\">\n",
       "      <th></th>\n",
       "      <th>Name</th>\n",
       "      <th>Class</th>\n",
       "    </tr>\n",
       "  </thead>\n",
       "  <tbody>\n",
       "    <tr>\n",
       "      <th>0</th>\n",
       "      <td>Maaz</td>\n",
       "      <td>4_Standard</td>\n",
       "    </tr>\n",
       "    <tr>\n",
       "      <th>1</th>\n",
       "      <td>Shahzaib</td>\n",
       "      <td>6_Standard</td>\n",
       "    </tr>\n",
       "    <tr>\n",
       "      <th>2</th>\n",
       "      <td>A. Baseer</td>\n",
       "      <td>1_Standard</td>\n",
       "    </tr>\n",
       "    <tr>\n",
       "      <th>3</th>\n",
       "      <td>M.Hussain</td>\n",
       "      <td>5_Standard</td>\n",
       "    </tr>\n",
       "    <tr>\n",
       "      <th>4</th>\n",
       "      <td>Ghufran</td>\n",
       "      <td>4_Standard</td>\n",
       "    </tr>\n",
       "  </tbody>\n",
       "</table>\n",
       "</div>"
      ],
      "text/plain": [
       "        Name       Class\n",
       "0       Maaz  4_Standard\n",
       "1   Shahzaib  6_Standard\n",
       "2  A. Baseer  1_Standard\n",
       "3  M.Hussain  5_Standard\n",
       "4    Ghufran  4_Standard"
      ]
     },
     "execution_count": 9,
     "metadata": {},
     "output_type": "execute_result"
    }
   ],
   "source": [
    "df1=pd.read_csv(\"student.csv\")\n",
    "df1.head()"
   ]
  },
  {
   "cell_type": "code",
   "execution_count": 10,
   "metadata": {},
   "outputs": [],
   "source": [
    "dict1={}\n",
    "for i in df1.Class.unique():\n",
    "    dict1[i]=str(i[2:])+\"_\"+str(i[0])\n",
    "    "
   ]
  },
  {
   "cell_type": "code",
   "execution_count": 11,
   "metadata": {},
   "outputs": [],
   "source": [
    "df1.Class=df1.Class.map(dict1, na_action=None)"
   ]
  },
  {
   "cell_type": "code",
   "execution_count": 12,
   "metadata": {},
   "outputs": [
    {
     "name": "stdout",
     "output_type": "stream",
     "text": [
      "Standard_1\n",
      "Standard_2\n",
      "Standard_3\n",
      "Standard_4\n",
      "Standard_5\n",
      "Standard_6\n"
     ]
    },
    {
     "name": "stderr",
     "output_type": "stream",
     "text": [
      "<ipython-input-12-b2bda5f3f153>:12: UserWarning: Pandas requires version '1.4.3' or newer of 'xlsxwriter' (version '1.3.7' currently installed).\n",
      "  with pd.ExcelWriter(\"/Users/mac/Desktop/Python Automation/Task/student -final sheet.xlsx\") as writer:\n"
     ]
    },
    {
     "name": "stdout",
     "output_type": "stream",
     "text": [
      "Standard_7\n",
      "Standard_8\n",
      "Standard_9\n"
     ]
    }
   ],
   "source": [
    "def Convert(df1):\n",
    "    grouped_df = df1.groupby('Class')\n",
    "    names=[]\n",
    "    dictionary={}\n",
    "    for key, item in grouped_df:\n",
    "        a=grouped_df.get_group(key)\n",
    "        print(a.Class.tolist()[0])\n",
    "        df_name=a.Class.tolist()[0]\n",
    "        names.append(df_name)\n",
    "    #     vars()[df_name]=pd.DataFrame(a)\n",
    "        dictionary[df_name]=a\n",
    "        with pd.ExcelWriter(\"/Users/mac/Desktop/Python Automation/Task/student -final sheet.xlsx\") as writer:\n",
    "            for i in dictionary.keys():\n",
    "\n",
    "                dictionary[i].to_excel(writer, sheet_name=str(i), index=False)\n",
    "Convert(df1)"
   ]
  },
  {
   "cell_type": "code",
   "execution_count": null,
   "metadata": {},
   "outputs": [],
   "source": []
  }
 ],
 "metadata": {
  "kernelspec": {
   "display_name": "Python 3",
   "language": "python",
   "name": "python3"
  },
  "language_info": {
   "codemirror_mode": {
    "name": "ipython",
    "version": 3
   },
   "file_extension": ".py",
   "mimetype": "text/x-python",
   "name": "python",
   "nbconvert_exporter": "python",
   "pygments_lexer": "ipython3",
   "version": "3.8.5"
  }
 },
 "nbformat": 4,
 "nbformat_minor": 4
}
